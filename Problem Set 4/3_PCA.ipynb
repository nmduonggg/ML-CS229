{
 "cells": [
  {
   "cell_type": "markdown",
   "id": "18176b85",
   "metadata": {},
   "source": [
    "# CS229, Fall 2017\n",
    "## Problem Set 4: EM, DL & RL\n",
    "\n",
    "This is my solutions for CS229 - Fall 2017: Machine Learning taught by Andrew Ng.\n",
    "\n",
    "The material for Problem Set 4 is here: [ps4](https://github.com/nmduonggg/ML-CS229/blob/master/Problem%20Set%204/ps4.pdf)\n",
    "\n",
    "This notebook contains the solution for __Question 3: PCA__"
   ]
  },
  {
   "cell_type": "markdown",
   "id": "d0dc11f2",
   "metadata": {},
   "source": [
    "### Question 3)"
   ]
  },
  {
   "cell_type": "markdown",
   "id": "a4291578",
   "metadata": {},
   "source": [
    "Since $x$ have zero-mean and unit variance in each coordinate then given a coordinate axis $u$, the projection of arbitrary data point $x$ on $u$ is given by:\n",
    "\n",
    "$$f_u(x) = \\big(\\frac{x^Tu}{||u||^2}\\big)u = (x^Tu)u$$"
   ]
  },
  {
   "cell_type": "markdown",
   "id": "b8ea3e93",
   "metadata": {},
   "source": [
    "Mimization of the mean squared error between projected points and original points is considered as follows:\n",
    "\n",
    "Firstly, consider\n",
    "\n",
    "$$\n",
    "\\begin{align*}\n",
    "    \\sum_{i=1}^m ||x^i - f_u(x^i))||_2^2 &= \\sum_{i=1}^m \\big[x^i - ({x^i}^T u)u\\big]^T \\big[x^i - ({x^i}^T u)u\\big] \\\\\n",
    "        &= \\sum_{i=1}^m \\big[x^T - u^T(x^Tu)^T\\big]\\big[x - (x^Tu)u\\big] \\\\\n",
    "        &=x^Tx - u^T(x^Tu)x - x^T(x^Tu)u + u^T(x^Tu)(x^Tu)u  \\\\\n",
    "        &= ||x||^2 - (x^Tu)^2\n",
    "\\end{align*}\n",
    "$$\n",
    "\n",
    "The minimization becomes:\n",
    "\n",
    "$$\n",
    "\\begin{align*}\n",
    "    &\\text{argmin}_{u: u^Tu = 1} \\frac{1}{n} \\sum_{i=1}^n ||x^i||^2 - (x^Tu)^2 \\\\\n",
    "    \\iff \\quad & \\text{argmax}_{u: u^Tu = 1} \\frac{1}{n} \\sum_{i=1}^n (x^Tu)^2\n",
    "\\end{align*}\n",
    "$$\n",
    "\n",
    "which simply the \"variance maximizing\" version resulting in finding the first principal component"
   ]
  },
  {
   "cell_type": "code",
   "execution_count": null,
   "id": "e59ba0f8",
   "metadata": {},
   "outputs": [],
   "source": []
  }
 ],
 "metadata": {
  "kernelspec": {
   "display_name": "Python 3 (ipykernel)",
   "language": "python",
   "name": "python3"
  },
  "language_info": {
   "codemirror_mode": {
    "name": "ipython",
    "version": 3
   },
   "file_extension": ".py",
   "mimetype": "text/x-python",
   "name": "python",
   "nbconvert_exporter": "python",
   "pygments_lexer": "ipython3",
   "version": "3.11.2"
  }
 },
 "nbformat": 4,
 "nbformat_minor": 5
}
