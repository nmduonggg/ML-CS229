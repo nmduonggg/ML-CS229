{
 "cells": [
  {
   "cell_type": "markdown",
   "id": "3c3429a0",
   "metadata": {},
   "source": [
    "# CS229, Fall 2017\n",
    "## Problem Set 4: EM, DL & RL\n",
    "\n",
    "This is my solutions for CS229 - Fall 2017: Machine Learning taught by Andrew Ng.\n",
    "\n",
    "The material for Problem Set 4 is here: [ps4](https://github.com/nmduonggg/ML-CS229/blob/master/Problem%20Set%204/ps4.pdf)\n",
    "\n",
    "This notebook contains the solution for __Question 5: Markov decision processes__"
   ]
  },
  {
   "cell_type": "markdown",
   "id": "caf98692",
   "metadata": {},
   "source": [
    "### Question 5.a)"
   ]
  },
  {
   "cell_type": "markdown",
   "id": "35a8d75c",
   "metadata": {},
   "source": [
    "The support lemma is:\n",
    "\n",
    "$$|\\max_x f_1(x) - \\max_x f_2(x)| \\leq \\max_x |f_1(x) - f_2(x)|$$"
   ]
  },
  {
   "cell_type": "markdown",
   "id": "0cbc73ac",
   "metadata": {},
   "source": [
    "Consider an MDP with finite state and action spaces, and discount factor $\\gamma < 1$. Let $B$ be the Bellman update operator with $V$ a vector of values for each state. \n",
    "\n",
    "$$B(V) = V'(s) = R(s) + \\max_{a\\in A} \\sum_{s' \\in S} P_{sa}(s')V(s')$$"
   ]
  },
  {
   "cell_type": "markdown",
   "id": "f7338432",
   "metadata": {},
   "source": [
    "Consider the left-handed side:\n",
    "\n",
    "$$\n",
    "\\begin{align*}\n",
    "    ||B(V_1) - B(V_2)||_\\infty &= \\max_s |R(s) + \\max_a \\gamma \\sum_{s'} P_{sa}(s') V_1(s') - R(s) - \\max_a \\gamma \\sum_{s'} P_{sa}(s') V_2(s')| \\\\\n",
    "    &= \\max_s \\gamma |\\max_a \\sum_{s'} P_{sa}(s')V_1(s') - \\max_a \\sum_{s'} P_{sa}(s') V_2(s')| \\\\\n",
    "    &\\leq \\max_s \\gamma \\max_a |\\sum_{s'} P_{sa}(s') \\big(V_1(s') - V_2(s')\\big)| \\\\\n",
    "    &\\leq \\max_{s,a} \\gamma |E_{s' \\in P_{sa}} \\big[V_1(s') - V_2(s')\\big]| \\\\\n",
    "    &\\leq \\gamma \\max_{s'} V_1(s') - V_2(s') \\\\\n",
    "    &\\leq \\gamma ||V_1(s) - V_2(s)||_\\infty\n",
    "\\end{align*}\n",
    "$$\n",
    "\n",
    "The last derivation is appropriate since $s, a$ do not appear in the equation any more"
   ]
  },
  {
   "cell_type": "markdown",
   "id": "31cc1656",
   "metadata": {},
   "source": [
    "### Question 5.b)"
   ]
  },
  {
   "cell_type": "markdown",
   "id": "febbcbe7",
   "metadata": {},
   "source": [
    "Suppose there are more than one __fixed point__, says two of them $V_1, V_2$, then there exists $\\gamma \\in [0, 1)$ such that hold the equality\n",
    "\n",
    "$$B(V_1) = V_1 \\text{and} B(V_2) = V_2 \\\\ ||B(V_1) - B(V_2)||_\\infty \\leq \\gamma ||V_1 - V_2||_\\infty$$\n",
    "\n",
    "This is equivalent to\n",
    "\n",
    "$$||B(V_1) - B(V_2)||_\\infty = ||V_1 - V_2||_\\infty$$\n",
    "\n",
    "Since $\\gamma \\in [0, 1)$ then by there does not exist $\\gamma$ satisfying the above equality. By contradiction, it is proved that there is at most one fixed point for Bellman equation"
   ]
  },
  {
   "cell_type": "markdown",
   "id": "3bdb896d",
   "metadata": {},
   "source": []
  }
 ],
 "metadata": {
  "kernelspec": {
   "display_name": "Python 3 (ipykernel)",
   "language": "python",
   "name": "python3"
  },
  "language_info": {
   "codemirror_mode": {
    "name": "ipython",
    "version": 3
   },
   "file_extension": ".py",
   "mimetype": "text/x-python",
   "name": "python",
   "nbconvert_exporter": "python",
   "pygments_lexer": "ipython3",
   "version": "3.11.2"
  }
 },
 "nbformat": 4,
 "nbformat_minor": 5
}
