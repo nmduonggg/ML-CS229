{
 "cells": [
  {
   "cell_type": "markdown",
   "id": "7351afd5",
   "metadata": {},
   "source": [
    "# CS229, Fall 2017\n",
    "## Problem Set 4: EM, DL & RL\n",
    "\n",
    "This is my solutions for CS229 - Fall 2017: Machine Learning taught by Andrew Ng.\n",
    "\n",
    "The material for Problem Set 4 is here: [ps4](https://github.com/nmduonggg/ML-CS229/blob/master/Problem%20Set%204/ps4.pdf)\n",
    "\n",
    "This notebook contains the solution for __Question 4: Independent components analysis__"
   ]
  },
  {
   "cell_type": "code",
   "execution_count": 1,
   "id": "16602b2c",
   "metadata": {},
   "outputs": [],
   "source": [
    "#!pip install pyaudio sounddevice"
   ]
  },
  {
   "cell_type": "markdown",
   "id": "1efb18dd",
   "metadata": {},
   "source": [
    "### Question 4)"
   ]
  },
  {
   "cell_type": "markdown",
   "id": "81b9f672",
   "metadata": {},
   "source": [
    "The gradient descent apply for ICA with the assumption that data source follows sigmoid distribution\n",
    "\n",
    "$$\n",
    "W = W + \\alpha \\bigg(\n",
    "    \\begin{bmatrix}\n",
    "        1 - 2g(w_1^T x^i \\\\\n",
    "        1 - 2g(w_2^T x^i) \\\\\n",
    "        ... \\\\\n",
    "        1 - 2g(w_d^T x^i)\n",
    "    \\end{bmatrix}\n",
    "\\bigg) {x^i}^T + (W^T)^{-1}\n",
    "$$"
   ]
  },
  {
   "cell_type": "markdown",
   "id": "1a1f6e6d",
   "metadata": {},
   "source": [
    "where:\n",
    "\n",
    "- $N$: Number of mixture observations\n",
    "- $d$: Number of (mixed) signals"
   ]
  },
  {
   "cell_type": "code",
   "execution_count": 2,
   "id": "f4e89d14",
   "metadata": {},
   "outputs": [],
   "source": [
    "import sounddevice as sd\n",
    "import numpy as np\n",
    "\n",
    "Fs = 11025\n",
    "\n",
    "def normalize(dat):\n",
    "    return 0.99 * dat / np.max(np.abs(dat))\n",
    "\n",
    "def load_data():\n",
    "    mix = np.loadtxt('data/mix.dat')\n",
    "    return mix\n",
    "\n",
    "def play(vec):\n",
    "    sd.play(vec, Fs, blocking=True)\n"
   ]
  },
  {
   "cell_type": "code",
   "execution_count": 3,
   "id": "c6cb07e7",
   "metadata": {},
   "outputs": [],
   "source": [
    "def sigmoid(x):\n",
    "    return np.where(x >= 0, 1 / (1 + np.exp(-x)), np.exp(x) / (1 + np.exp(x)))"
   ]
  },
  {
   "cell_type": "code",
   "execution_count": 41,
   "id": "2e802117",
   "metadata": {},
   "outputs": [],
   "source": [
    "def unmixer(X):\n",
    "    M, N = X.shape\n",
    "    W = np.eye(N)\n",
    "\n",
    "    anneal = [0.1, 0.1, 0.1, 0.05, 0.05, 0.05, 0.02, 0.02, 0.01, 0.01,\n",
    "              0.005, 0.005, 0.002, 0.002, 0.001, 0.001]\n",
    "    print('Separating tracks ...')\n",
    "    \n",
    "    for alpha in anneal:\n",
    "        for x in X:\n",
    "            sm = sigmoid(np.dot(W, x.T))\n",
    "            gradW = np.outer(1 - 2*sm, x) + np.linalg.inv(W.T) # if we use np.dot -> might be 1D scalar\n",
    "            W += alpha*gradW\n",
    "        \n",
    "    return W"
   ]
  },
  {
   "cell_type": "code",
   "execution_count": 45,
   "id": "219ac38f",
   "metadata": {},
   "outputs": [],
   "source": [
    "def unmix(X, W):\n",
    "    S = np.zeros(X.shape)\n",
    "    S = X.dot(W.T)\n",
    "    return S"
   ]
  },
  {
   "cell_type": "code",
   "execution_count": 43,
   "id": "55ebe40f",
   "metadata": {},
   "outputs": [
    {
     "name": "stdout",
     "output_type": "stream",
     "text": [
      "Playing mixed track 0\n",
      "Playing mixed track 1\n",
      "Playing mixed track 2\n",
      "Playing mixed track 3\n",
      "Playing mixed track 4\n"
     ]
    }
   ],
   "source": [
    "# Play mixed signal\n",
    "X = normalize(load_data())\n",
    "\n",
    "for i in range(X.shape[1]):\n",
    "    print('Playing mixed track %d' % i)\n",
    "    play(X[:, i])"
   ]
  },
  {
   "cell_type": "code",
   "execution_count": 46,
   "id": "e01b5e16",
   "metadata": {},
   "outputs": [
    {
     "name": "stdout",
     "output_type": "stream",
     "text": [
      "Separating tracks ...\n",
      "Playing separated track 0\n",
      "Playing separated track 1\n",
      "Playing separated track 2\n",
      "Playing separated track 3\n",
      "Playing separated track 4\n"
     ]
    }
   ],
   "source": [
    "W = unmixer(X)\n",
    "S = normalize(unmix(X, W))\n",
    "\n",
    "for i in range(S.shape[1]):\n",
    "    print('Playing separated track %d' % i)\n",
    "    play(S[:, i])"
   ]
  },
  {
   "cell_type": "code",
   "execution_count": null,
   "id": "ad75f0d7",
   "metadata": {},
   "outputs": [],
   "source": []
  }
 ],
 "metadata": {
  "kernelspec": {
   "display_name": "Python 3 (ipykernel)",
   "language": "python",
   "name": "python3"
  },
  "language_info": {
   "codemirror_mode": {
    "name": "ipython",
    "version": 3
   },
   "file_extension": ".py",
   "mimetype": "text/x-python",
   "name": "python",
   "nbconvert_exporter": "python",
   "pygments_lexer": "ipython3",
   "version": "3.11.2"
  }
 },
 "nbformat": 4,
 "nbformat_minor": 5
}
