{
 "cells": [
  {
   "cell_type": "markdown",
   "id": "6f6c69c5",
   "metadata": {},
   "source": [
    "# CS229, Fall 2017\n",
    "## Problem Set 1: Supervised Learning\n",
    "\n",
    "This is my solutions for CS229 - Fall 2017: Machine Learning taught by Andrew Ng.\n",
    "\n",
    "The material for Problem Set 1 is here: [ps1](https://github.com/nmduonggg/ML-CS229/blob/master/Problem%20Set%201/ps1.pdf)\n",
    "\n",
    "This notebook contains the solution for __Question 2: Poisson Regression and Exponential Family__"
   ]
  },
  {
   "cell_type": "markdown",
   "id": "bf56ca6b",
   "metadata": {},
   "source": [
    "### Notation\n",
    "* $x^i$: $i^{th}$ instances of the dataset\n",
    "* $y^i$: $i^{th}$ target value of the dataset\n",
    "* $x_j^i$: the $j^{th}$ feature of the $i^{th}$ instance\n",
    "* $\\theta_j$: coefficient corresponding to the $j^{th}$ feature\n",
    "* $h_{\\theta}$: an approximation of our model\n",
    "* $p(y; \\theta)$: distibution function parameterized by $\\theta$"
   ]
  },
  {
   "cell_type": "markdown",
   "id": "b5b7f1ac",
   "metadata": {},
   "source": [
    "### Question 2.a)\n",
    "Consider Poisson distribution parameterized by $\\lambda$:\n",
    "\n",
    "$$\n",
    "\\begin{align*}\n",
    "p(y; \\lambda) &= \\frac{e^{-\\lambda} \\lambda^y}{y!} \\\\\n",
    "    &= \\frac{1}{y!} exp(log(e^{-\\lambda}\\lambda^y)) \\\\\n",
    "    &= \\frac{1}{y!} exp(-\\lambda + ylog\\lambda)\n",
    "\\end{align*}\n",
    "$$\n",
    "\n",
    "Compare to the exponential family formula for pattern matching\n",
    "$$p(y; \\eta) = b(y).exp(\\eta^T T(y) - a(\\eta))$$\n",
    "\n",
    "we can assume that *Poisson distribution* is one of the exponential family with\n",
    "* $b(y) = \\frac{1}{y!}$\n",
    "* $T(y) = y$\n",
    "* $\\eta = log \\lambda$\n",
    "* $a(\\eta) = \\lambda = e^\\eta$"
   ]
  },
  {
   "cell_type": "markdown",
   "id": "3cbcdd81",
   "metadata": {},
   "source": [
    "### Question 2.b)\n",
    "Consider performing regression using a GLM model with a Poisson response variable, since y follows the Poisson distribution then the canonical response function should be:\n",
    "$$\n",
    "\\begin{align*}\n",
    "y = h_\\theta(x) &= E(y| x; \\theta) \\\\\n",
    "    &= \\lambda \\\\\n",
    "    &= e^\\eta \\\\\n",
    "    &= e^{\\theta^Tx}\n",
    "\\end{align*}\n",
    "$$"
   ]
  },
  {
   "cell_type": "markdown",
   "id": "e2229d0e",
   "metadata": {},
   "source": [
    "### Question 2.c)\n",
    "Consider log-likelihood for an example $log p(y^i| x^i; \\theta)$, we have its derivative as follows:\n",
    "$$\n",
    "\\begin{align*}\n",
    "\\frac{\\partial}{\\partial \\theta_j}log p (y^i| x^i; \\theta) \n",
    "    &= \\frac{\\partial}{\\partial \\theta_j} \\ log (\\frac{1}{y^i!}exp(-e^{\\theta^T x^i} + y^i log e^{\\theta^T x}) \\\\\n",
    "    &= \\frac{\\partial}{\\partial \\theta_j} \\ (-log(y^i!) - e^{\\theta^Tx^i} + y^i \\theta^T x^i) \\\\\n",
    "    &= -e^{\\theta^Tx^i}.x^i_j + y^i.x^i_j \\\\\n",
    "    &= (y^i - e^{\\theta^Tx^i})x^i_j \\\\\n",
    "    &= (y^i - h_\\theta(x^i))x^i_j\n",
    "\\end{align*}\n",
    "$$\n",
    "\n",
    "As we want to maximize the likelihood of the data, stochastic gradient ascents will be applied with the learning rate $\\alpha$. Then $\\forall j = 1,...,n$, we have:\n",
    "\n",
    "$$\\theta_j := \\theta_j + \\alpha (y^i - h_\\theta(x^i))x^i_j$$"
   ]
  }
 ],
 "metadata": {
  "kernelspec": {
   "display_name": "Python 3 (ipykernel)",
   "language": "python",
   "name": "python3"
  },
  "language_info": {
   "codemirror_mode": {
    "name": "ipython",
    "version": 3
   },
   "file_extension": ".py",
   "mimetype": "text/x-python",
   "name": "python",
   "nbconvert_exporter": "python",
   "pygments_lexer": "ipython3",
   "version": "3.11.2"
  }
 },
 "nbformat": 4,
 "nbformat_minor": 5
}
