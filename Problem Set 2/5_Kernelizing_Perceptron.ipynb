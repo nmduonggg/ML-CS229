{
 "cells": [
  {
   "cell_type": "markdown",
   "id": "f327d0f9",
   "metadata": {},
   "source": [
    "# CS229, Fall 2017\n",
    "## Problem Set 2: Supervised Learning II\n",
    "\n",
    "This is my solutions for CS229 - Fall 2017: Machine Learning taught by Andrew Ng.\n",
    "\n",
    "The material for Problem Set 2 is here: [ps2](https://github.com/nmduonggg/ML-CS229/blob/master/Problem%20Set%202/ps2.pdf)\n",
    "\n",
    "This notebook contains the solution for __Question 5: Kernelizing the Perceptron__"
   ]
  },
  {
   "cell_type": "markdown",
   "id": "36166bcf",
   "metadata": {},
   "source": [
    "### Question 5.a)\n",
    "\n",
    "We can represent the gradient descent step for parameters $\\theta$ as follows:\n",
    "\n",
    "$$\n",
    "    \\theta^{i}= \n",
    "\\begin{cases}\n",
    "    \\theta^{i-1} + \\alpha y^i \\phi(x^i),& \\text{if } h_{\\theta^{i-1}}(x^i)y^i < 0\\\\\n",
    "    \\theta^{i-1} + 0 \\times \\phi(x^i),              & \\text{otherwise}\n",
    "\\end{cases}\n",
    "$$\n",
    "\n",
    "Or:\n",
    "\n",
    "$$\\theta^i = \\sum_{i=j}^i \\beta_j \\phi(x^j)$$\n",
    "\n",
    "At initialization, stochastic GD choose a random sample and: $$\\theta^{(0)} = 0.\\phi(x^j)$$"
   ]
  },
  {
   "cell_type": "markdown",
   "id": "29292835",
   "metadata": {},
   "source": [
    "### Question 5.b)\n",
    "\n",
    "$$\n",
    "\\begin{align*}\n",
    "    h_{\\theta^i}(x^{i+1}) &= g\\big((\\theta^i)^T \\theta^i(x^{i+1})\\big) \\\\\n",
    "        &= g\\bigg[(\\sum_{j=0}^i \\beta_j \\phi(x^j)^T) \\phi(x^{i+1})\\bigg] \\\\\n",
    "        &= g\\bigg[(\\sum_{j=0}^i \\beta_j (\\phi(x^j)^T . \\phi(x^{i+1}))\\bigg] \\\\\n",
    "        &= sign \\bigg[\\sum_{j=0}^i \\beta_j \\big(\\phi(x^j)^T.\\phi(x^{i+1})\\big)\\bigg]\\\\\n",
    "\\end{align*}\n",
    "$$"
   ]
  },
  {
   "cell_type": "markdown",
   "id": "08520655",
   "metadata": {},
   "source": [
    "### Question 5.c)\n",
    "\n",
    "We have the following derivation:\n",
    "\n",
    "$$\n",
    "\\begin{align*}\n",
    "&\\theta^{i+1} = \\theta^i + \\alpha . 1\\{g({\\theta^i}^T \\phi(x^{i+1})) y^{i+1} < 0\\} y^{i+1} \\phi(x^{i+1}) \\\\ \\\\\n",
    "\\implies \\quad &\\sum_{j=1}^{i+1} \\beta_j \\phi(x^j) = \\sum_{j=1}^i\\beta_j \\phi(x^j) + \\alpha . 1\\{g({\\theta^i}^T \\phi(x^{i+1}) y^{i+1} < 0\\} y^{i+1} \\phi(x^{i+1}) \\\\ \\\\\n",
    "\\implies \\quad &\\beta_{i+1} =  \\alpha . 1\\{g({\\theta^i}^T \\phi(x^{i+1}) y^{i+1} < 0\\} y^{i+1} \\\\\n",
    "\\implies \\quad &\\beta_{i+1} =  \\alpha . 1\\{g \\big(\\sum_{j=1}^i \\beta_j \\big[\\phi(x^j)^T . \\phi(x^i+1)\\big] \\big) . y^{i+1} < 0\\} y^{i+1} \\\\\n",
    "\\implies \\quad &\\beta_{i+1} =  \\alpha . 1\\{g \\big(\\sum_{j=1}^i \\beta_j K(x^j, x^{i+1}) \\big) . y^{i+1} < 0\\} y^{i+1} \\\\\n",
    "\\end{align*}\n",
    "$$\n",
    "\n",
    "where $K(x, z)$ is a kernel function corresponding to given feature mapping $\\phi$"
   ]
  },
  {
   "cell_type": "code",
   "execution_count": null,
   "id": "68a939e0",
   "metadata": {},
   "outputs": [],
   "source": []
  }
 ],
 "metadata": {
  "kernelspec": {
   "display_name": "Python 3 (ipykernel)",
   "language": "python",
   "name": "python3"
  },
  "language_info": {
   "codemirror_mode": {
    "name": "ipython",
    "version": 3
   },
   "file_extension": ".py",
   "mimetype": "text/x-python",
   "name": "python",
   "nbconvert_exporter": "python",
   "pygments_lexer": "ipython3",
   "version": "3.11.2"
  }
 },
 "nbformat": 4,
 "nbformat_minor": 5
}
