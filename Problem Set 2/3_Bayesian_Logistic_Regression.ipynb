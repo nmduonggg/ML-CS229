{
 "cells": [
  {
   "cell_type": "markdown",
   "id": "483440dd",
   "metadata": {},
   "source": [
    "# CS229, Fall 2017\n",
    "## Problem Set 1: Supervised Learning\n",
    "\n",
    "This is my solutions for CS229 - Fall 2017: Machine Learning taught by Andrew Ng.\n",
    "\n",
    "The material for Problem Set 2 is here: [ps2](https://github.com/nmduonggg/ML-CS229/blob/master/Problem%20Set%202/ps2.pdf)\n",
    "\n",
    "This notebook contains the solution for __Question 3: Bayesian Logistic Regression and weight decay__"
   ]
  },
  {
   "cell_type": "markdown",
   "id": "c2130472",
   "metadata": {},
   "source": [
    "### Question 3)"
   ]
  },
  {
   "cell_type": "markdown",
   "id": "701236bc",
   "metadata": {},
   "source": [
    "Given the prior $\\theta \\sim N(0, \\tau^2I)$ as a Gaussian random variable. Then the PDF of $\\theta$ is:\n",
    "\n",
    "$$\n",
    "\\begin{align*}\n",
    "p(\\theta) &= \\frac{1}{2\\pi \\tau} \\exp \\bigg(-\\frac{1}{2}. \\theta^T (\\tau^2I)^{-1} \\theta \\bigg) \\\\\n",
    "    &= \\frac{1}{2 \\pi \\tau} \\exp \\bigg(-\\frac{1}{2\\tau^2} \\theta^T \\theta \\bigg) \\\\\n",
    "    &= \\frac{1}{2 \\pi \\tau} \\exp \\bigg(-\\frac{1}{2\\tau^2} ||\\theta||_2 \\bigg)\n",
    "\\end{align*}\n",
    "$$\n",
    "\n",
    "Also, by definition of $\\theta_{MLE}$ and $\\theta_{MAP}$, the followings must hold true:\n",
    "\n",
    "- $p(y^i | x^i; \\theta_{MLE}) > p(y^i | x^i; \\theta) \\quad \\forall \\theta$\n",
    "\n",
    "- $p(\\theta_{MAP}) \\prod_{i=1}^m p(y^i | x^i; \\theta_{MAP}) > p(\\theta) \\prod_{i=1}^m p(y^i | x^i; \\theta) \\quad \\forall \\theta$ "
   ]
  },
  {
   "cell_type": "markdown",
   "id": "817d4843",
   "metadata": {},
   "source": [
    "Suppose that $||\\theta_{MAP}||_2 > ||\\theta_{MLE}||_2$ then:\n",
    "\n",
    "$$\n",
    "\\begin{align*}\n",
    "    p(\\theta_{MAP}) &< p(\\theta_{MLE}) \\\\\n",
    "    p(\\theta_{MAP}) \\prod_{i=1}^m p(y^i | x^i; \\theta_{MLE}) &< p(\\theta_{MLE}) \\prod_{i=1}^m p(y^i | x^i; \\theta_{MLE}) \\\\\n",
    "    p(\\theta_{MAP}) \\prod_{i=1}^m p(y^i | x^i; \\theta_{MAP}) &< p(\\theta_{MLE}) \\prod_{i=1}^m p(y^i | x^i; \\theta_{MLE})\n",
    "\\end{align*}$$\n",
    "\n",
    "which leads to contradiction to the second condition.\n",
    "\n",
    "By contradiction, we can conclude that: \n",
    "\n",
    "$$||\\theta_{MAP}|| _2 \\geq ||\\theta_{MLE}||_2$$"
   ]
  },
  {
   "cell_type": "markdown",
   "id": "c8277139",
   "metadata": {},
   "source": [
    "__Remark:__ This form of regularization is sometimes called __weight decay__, since it encourages the weights to take on generally smaller value."
   ]
  },
  {
   "cell_type": "code",
   "execution_count": null,
   "id": "edb61cdb",
   "metadata": {},
   "outputs": [],
   "source": []
  }
 ],
 "metadata": {
  "kernelspec": {
   "display_name": "Python 3 (ipykernel)",
   "language": "python",
   "name": "python3"
  },
  "language_info": {
   "codemirror_mode": {
    "name": "ipython",
    "version": 3
   },
   "file_extension": ".py",
   "mimetype": "text/x-python",
   "name": "python",
   "nbconvert_exporter": "python",
   "pygments_lexer": "ipython3",
   "version": "3.11.2"
  }
 },
 "nbformat": 4,
 "nbformat_minor": 5
}
