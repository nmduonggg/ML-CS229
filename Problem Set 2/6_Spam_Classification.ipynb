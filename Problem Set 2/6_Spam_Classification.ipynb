{
 "cells": [
  {
   "cell_type": "markdown",
   "id": "4852d883",
   "metadata": {},
   "source": [
    "# CS229, Fall 2017\n",
    "## Problem Set 2: Supervised Learning II\n",
    "\n",
    "This is my solutions for CS229 - Fall 2017: Machine Learning taught by Andrew Ng.\n",
    "\n",
    "The material for Problem Set 2 is here: [ps2](https://github.com/nmduonggg/ML-CS229/blob/master/Problem%20Set%202/ps2.pdf)\n",
    "\n",
    "This notebook contains the solution for __Question 6: Spam Classification__"
   ]
  },
  {
   "cell_type": "code",
   "execution_count": 1,
   "id": "d6720a15",
   "metadata": {},
   "outputs": [],
   "source": [
    "import numpy as np\n",
    "import pandas as pd\n",
    "import matplotlib.pyplot as plt\n",
    "import seaborn as sns\n",
    "\n",
    "%matplotlib inline"
   ]
  },
  {
   "cell_type": "markdown",
   "id": "83eb1965",
   "metadata": {},
   "source": [
    "### Question 6.a)\n",
    "\n",
    "#### Naive Bayes"
   ]
  },
  {
   "cell_type": "code",
   "execution_count": 2,
   "id": "fd2ed78c",
   "metadata": {},
   "outputs": [
    {
     "name": "stdout",
     "output_type": "stream",
     "text": [
      "Error: 0.0163\n"
     ]
    },
    {
     "data": {
      "text/plain": [
       "0.01625"
      ]
     },
     "execution_count": 2,
     "metadata": {},
     "output_type": "execute_result"
    }
   ],
   "source": [
    "def readMatrix(file):\n",
    "    fd = open(file, 'r')\n",
    "    hdr = fd.readline()\n",
    "    rows, cols = [int(s) for s in fd.readline().strip().split()]\n",
    "    tokens = fd.readline().strip().split()\n",
    "    matrix = np.zeros((rows, cols))\n",
    "    Y = []\n",
    "    for i, line in enumerate(fd):\n",
    "        nums = [int(x) for x in line.strip().split()]\n",
    "        Y.append(nums[0])\n",
    "        kv = np.array(nums[1:])\n",
    "        k = np.cumsum(kv[:-1:2])\n",
    "        v = kv[1::2]\n",
    "        matrix[i, k] = v\n",
    "    return matrix, tokens, np.array(Y)\n",
    "\n",
    "def nb_train(matrix, category):\n",
    "    state = {}\n",
    "    N = matrix.shape[1]\n",
    "    ###################\n",
    "    spam = matrix[category == 1, :]\n",
    "    nonspam = matrix[category == 0, :]\n",
    "\n",
    "    phi_y1 = (np.sum(spam, axis = 0) + 1) / (spam.sum() + N)\n",
    "    phi_y0 = (np.sum(nonspam, axis = 0) + 1) / (nonspam.sum() + N)\n",
    "    phi_y = spam.shape[0] / matrix.shape[0]\n",
    "\n",
    "    state['phi_y1'] = phi_y1    # prob that jth token appears given y=1\n",
    "    state['phi_y0'] = phi_y0    # prob that jth token appears given y=1\n",
    "    state['phi_y'] = phi_y\n",
    "\n",
    "    ###################\n",
    "    return state\n",
    "\n",
    "def nb_test(matrix, state):\n",
    "    output = np.zeros(matrix.shape[0])\n",
    "    ###################\n",
    "\n",
    "    phi_y1 = state['phi_y1']\n",
    "    phi_y0 = state['phi_y0']\n",
    "    phi_y = state['phi_y']\n",
    "\n",
    "    log_probSpam = np.sum(np.log(phi_y1)*matrix, axis = 1) + np.log(phi_y)\n",
    "    log_probNon = np.sum(np.log(phi_y0)*matrix, axis = 1) + np.log(phi_y)\n",
    "\n",
    "    output[log_probSpam >= log_probNon] = 1\n",
    "    ###################\n",
    "    return output\n",
    "\n",
    "def evaluate(output, label):\n",
    "    error = (output != label).sum() * 1. / len(output)\n",
    "    print('Error: %1.4f' % error)\n",
    "    return error\n",
    "\n",
    "\n",
    "trainMatrix, tokenlist, trainCategory = readMatrix('./data/MATRIX.TRAIN.txt')\n",
    "testMatrix, tokenlist, testCategory = readMatrix('./data/MATRIX.TEST.txt')\n",
    "\n",
    "state = nb_train(trainMatrix, trainCategory)\n",
    "output = nb_test(testMatrix, state)\n",
    "\n",
    "evaluate(output, testCategory)\n"
   ]
  },
  {
   "cell_type": "markdown",
   "id": "a3250d7d",
   "metadata": {},
   "source": [
    "### Question 6.b)"
   ]
  },
  {
   "cell_type": "code",
   "execution_count": 3,
   "id": "b901e486",
   "metadata": {},
   "outputs": [],
   "source": [
    "phi_y1 = state['phi_y1']\n",
    "phi_y0 = state['phi_y0']\n",
    "\n",
    "intuitiveSpam = np.log(phi_y1 / phi_y0)\n",
    "indices_token = np.argsort(-intuitiveSpam)[:5] # negate to get the descending order"
   ]
  },
  {
   "cell_type": "code",
   "execution_count": 4,
   "id": "292b7186",
   "metadata": {},
   "outputs": [
    {
     "data": {
      "text/plain": [
       "array([ 615, 1209, 1356,  393, 1368], dtype=int64)"
      ]
     },
     "execution_count": 4,
     "metadata": {},
     "output_type": "execute_result"
    }
   ],
   "source": [
    "indices_token"
   ]
  },
  {
   "cell_type": "code",
   "execution_count": 5,
   "id": "b4b47f9b",
   "metadata": {},
   "outputs": [
    {
     "data": {
      "text/plain": [
       "array(['httpaddr', 'spam', 'unsubscrib', 'ebai', 'valet'], dtype='<U16')"
      ]
     },
     "execution_count": 5,
     "metadata": {},
     "output_type": "execute_result"
    }
   ],
   "source": [
    "np.array(tokenlist)[indices_token]"
   ]
  },
  {
   "cell_type": "markdown",
   "id": "d1e723ea",
   "metadata": {},
   "source": [
    "### Question 6.c)"
   ]
  },
  {
   "cell_type": "code",
   "execution_count": 6,
   "id": "a48c1f59",
   "metadata": {},
   "outputs": [],
   "source": [
    "def repeat_nb(trainFile, train_size):\n",
    "    trainMatrix, tokenlist, trainCategory = readMatrix(trainFile)\n",
    "    testMatrix, tokenlist, testCategory = readMatrix('./data/MATRIX.TEST.txt')\n",
    "\n",
    "    state = nb_train(trainMatrix, trainCategory)\n",
    "    output = nb_test(testMatrix, state)\n",
    "\n",
    "    test_err = evaluate(output, testCategory)\n",
    "    return (train_size, test_err)"
   ]
  },
  {
   "cell_type": "code",
   "execution_count": 7,
   "id": "0bf2693d",
   "metadata": {},
   "outputs": [],
   "source": [
    "samples = [('./data/MATRIX.TRAIN.50.txt', 50),\n",
    "           ('./data/MATRIX.TRAIN.100.txt', 100),\n",
    "           ('./data/MATRIX.TRAIN.200.txt', 200),\n",
    "           ('./data/MATRIX.TRAIN.400.txt', 400),\n",
    "           ('./data/MATRIX.TRAIN.800.txt', 800),\n",
    "           ('./data/MATRIX.TRAIN.1400.txt.', 1400)]"
   ]
  },
  {
   "cell_type": "code",
   "execution_count": 8,
   "id": "42475398",
   "metadata": {},
   "outputs": [
    {
     "name": "stdout",
     "output_type": "stream",
     "text": [
      "Error: 0.0400\n",
      "Error: 0.0262\n",
      "Error: 0.0262\n",
      "Error: 0.0187\n",
      "Error: 0.0175\n",
      "Error: 0.0163\n"
     ]
    },
    {
     "data": {
      "text/plain": [
       "array([0.04   , 0.02625, 0.02625, 0.01875, 0.0175 , 0.01625])"
      ]
     },
     "execution_count": 8,
     "metadata": {},
     "output_type": "execute_result"
    }
   ],
   "source": [
    "num_samp = len(samples)\n",
    "train_sizes = np.zeros(num_samp)\n",
    "test_errors = np.zeros(num_samp)\n",
    "for i in range(num_samp):\n",
    "    trainFile, train_size = samples[i]\n",
    "    train_sizes[i], test_errors[i] = repeat_nb(trainFile, train_size)\n",
    "    \n",
    "test_errors"
   ]
  },
  {
   "cell_type": "code",
   "execution_count": 9,
   "id": "9192a535",
   "metadata": {},
   "outputs": [
    {
     "data": {
      "image/png": "[encoded data removed]",
      "text/plain": [
       "<Figure size 600x400 with 1 Axes>"
      ]
     },
     "metadata": {},
     "output_type": "display_data"
    }
   ],
   "source": [
    "plt.figure(figsize = (6, 4))\n",
    "plt.plot(train_sizes, test_errors)\n",
    "plt.title(\"NB Learning Curve\")\n",
    "plt.xlabel(\"Training size\")\n",
    "plt.ylabel(\"Test error\")\n",
    "\n",
    "plt.show()"
   ]
  },
  {
   "cell_type": "markdown",
   "id": "0d45a6b7",
   "metadata": {},
   "source": [
    "__Review__: Training test with 1400 of size seems to give the best test error"
   ]
  },
  {
   "cell_type": "markdown",
   "id": "cdfbec78",
   "metadata": {},
   "source": [
    "### Question 6.d)"
   ]
  },
  {
   "cell_type": "markdown",
   "id": "73516263",
   "metadata": {},
   "source": [
    "#### SVM"
   ]
  },
  {
   "cell_type": "code",
   "execution_count": 10,
   "id": "d93fd189",
   "metadata": {},
   "outputs": [
    {
     "name": "stdout",
     "output_type": "stream",
     "text": [
      "Error: 0.0025\n"
     ]
    }
   ],
   "source": [
    "import numpy as np\n",
    "\n",
    "tau = 8.\n",
    "\n",
    "def readMatrix(file):\n",
    "    fd = open(file, 'r')\n",
    "    hdr = fd.readline()\n",
    "    rows, cols = [int(s) for s in fd.readline().strip().split()]\n",
    "    tokens = fd.readline().strip().split()\n",
    "    matrix = np.zeros((rows, cols))\n",
    "    Y = []\n",
    "    for i, line in enumerate(fd):\n",
    "        nums = [int(x) for x in line.strip().split()]\n",
    "        Y.append(nums[0])\n",
    "        kv = np.array(nums[1:])\n",
    "        k = np.cumsum(kv[:-1:2])\n",
    "        v = kv[1::2]\n",
    "        matrix[i, k] = v\n",
    "    category = (np.array(Y) * 2) - 1\n",
    "    return matrix, tokens, category\n",
    "\n",
    "def svm_train(matrix, category):\n",
    "    state = {}\n",
    "    M, N = matrix.shape\n",
    "    #####################\n",
    "    Y = category\n",
    "    matrix = 1. * (matrix > 0)\n",
    "    squared = np.sum(matrix * matrix, axis=1)\n",
    "    gram = matrix.dot(matrix.T)\n",
    "    K = np.exp(-(squared.reshape((1, -1)) + squared.reshape((-1, 1)) - 2 * gram) / (2 * (tau ** 2)) )\n",
    "\n",
    "    alpha = np.zeros(M)\n",
    "    alpha_avg = np.zeros(M)\n",
    "    L = 1. / (64 * M)\n",
    "    outer_loops = 40\n",
    "\n",
    "    alpha_avg\n",
    "    for ii in range(outer_loops * M):\n",
    "        i = int(np.random.rand() * M)\n",
    "        margin = Y[i] * np.dot(K[i, :], alpha)\n",
    "        grad = M * L * K[:, i] * alpha[i]\n",
    "        if (margin < 1):\n",
    "            grad -=  Y[i] * K[:, i]\n",
    "        alpha -=  grad / np.sqrt(ii + 1)\n",
    "        alpha_avg += alpha\n",
    "\n",
    "    alpha_avg /= (ii + 1) * M\n",
    "\n",
    "    state['alpha'] = alpha\n",
    "    state['alpha_avg'] = alpha_avg\n",
    "    state['Xtrain'] = matrix\n",
    "    state['Sqtrain'] = squared\n",
    "    ####################\n",
    "    return state\n",
    "\n",
    "def svm_test(matrix, state):\n",
    "    M, N = matrix.shape\n",
    "    output = np.zeros(M)\n",
    "    ###################\n",
    "    Xtrain = state['Xtrain']\n",
    "    Sqtrain = state['Sqtrain']\n",
    "    matrix = 1. * (matrix > 0)\n",
    "    squared = np.sum(matrix * matrix, axis=1)\n",
    "    gram = matrix.dot(Xtrain.T)\n",
    "    K = np.exp(-(squared.reshape((-1, 1)) + Sqtrain.reshape((1, -1)) - 2 * gram) / (2 * (tau ** 2)))\n",
    "    alpha_avg = state['alpha_avg']\n",
    "    preds = K.dot(alpha_avg)\n",
    "    output = np.sign(preds)\n",
    "    ###################\n",
    "    return output\n",
    "\n",
    "def evaluate(output, label):\n",
    "    error = (output != label).sum() * 1. / len(output)\n",
    "    print('Error: %1.4f' % error)\n",
    "    return error\n",
    "\n",
    "def main():\n",
    "    trainMatrix, tokenlist, trainCategory = readMatrix('./data/MATRIX.TRAIN.400.txt')\n",
    "    testMatrix, tokenlist, testCategory = readMatrix('./data/MATRIX.TEST.txt')\n",
    "\n",
    "    state = svm_train(trainMatrix, trainCategory)\n",
    "    output = svm_test(testMatrix, state)\n",
    "\n",
    "    evaluate(output, testCategory)\n",
    "    return\n",
    "\n",
    "main()"
   ]
  },
  {
   "cell_type": "code",
   "execution_count": 11,
   "id": "f222b2b6",
   "metadata": {},
   "outputs": [
    {
     "name": "stdout",
     "output_type": "stream",
     "text": [
      "Error: 0.0213\n",
      "Error: 0.0225\n",
      "Error: 0.0037\n",
      "Error: 0.0013\n",
      "Error: 0.0000\n",
      "Error: 0.0000\n"
     ]
    },
    {
     "data": {
      "text/plain": [
       "array([0.02125, 0.0225 , 0.00375, 0.00125, 0.     , 0.     ])"
      ]
     },
     "execution_count": 11,
     "metadata": {},
     "output_type": "execute_result"
    }
   ],
   "source": [
    "def repeat_svm(trainFile, train_size):\n",
    "    trainMatrix, tokenlist, trainCategory = readMatrix(trainFile)\n",
    "    testMatrix, tokenlist, testCategory = readMatrix('./data/MATRIX.TEST.txt')\n",
    "\n",
    "    state = svm_train(trainMatrix, trainCategory)\n",
    "    output = svm_test(testMatrix, state)\n",
    "\n",
    "    test_err = evaluate(output, testCategory)\n",
    "    return (train_size, test_err)\n",
    "\n",
    "num_samp = len(samples)\n",
    "train_sizes = np.zeros(num_samp)\n",
    "test_errors = np.zeros(num_samp)\n",
    "for i in range(num_samp):\n",
    "    trainFile, train_size = samples[i]\n",
    "    train_sizes[i], test_errors[i] = repeat_svm(trainFile, train_size)\n",
    "    \n",
    "test_errors"
   ]
  },
  {
   "cell_type": "code",
   "execution_count": 12,
   "id": "8b62e539",
   "metadata": {},
   "outputs": [
    {
     "data": {
      "image/png": "[encoded data removed]",
      "text/plain": [
       "<Figure size 600x400 with 1 Axes>"
      ]
     },
     "metadata": {},
     "output_type": "display_data"
    }
   ],
   "source": [
    "plt.figure(figsize = (6, 4))\n",
    "plt.plot(train_sizes, test_errors)\n",
    "plt.title(\"SVM Learning Curve\")\n",
    "plt.xlabel(\"Training size\")\n",
    "plt.ylabel(\"Test error\")\n",
    "\n",
    "plt.show()"
   ]
  },
  {
   "cell_type": "markdown",
   "id": "361601d5",
   "metadata": {},
   "source": [
    "### Question 6.e)\n",
    "\n",
    "Both NB and SVM decrease gradually, but SVM seems to better at generalization error term. SVM find an optimal decison boundary that can reach 0.00 (perfectly correct) with the large dataset."
   ]
  },
  {
   "cell_type": "code",
   "execution_count": null,
   "id": "d2e4ee9f",
   "metadata": {},
   "outputs": [],
   "source": []
  }
 ],
 "metadata": {
  "kernelspec": {
   "display_name": "Python 3 (ipykernel)",
   "language": "python",
   "name": "python3"
  },
  "language_info": {
   "codemirror_mode": {
    "name": "ipython",
    "version": 3
   },
   "file_extension": ".py",
   "mimetype": "text/x-python",
   "name": "python",
   "nbconvert_exporter": "python",
   "pygments_lexer": "ipython3",
   "version": "3.11.2"
  }
 },
 "nbformat": 4,
 "nbformat_minor": 5
}
