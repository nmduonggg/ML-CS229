{
 "cells": [
  {
   "cell_type": "markdown",
   "id": "05d63632",
   "metadata": {},
   "source": [
    "# CS229, Fall 2017\n",
    "## Problem Set 2: Supervised Learning II\n",
    "\n",
    "This is my solutions for CS229 - Fall 2017: Machine Learning taught by Andrew Ng.\n",
    "\n",
    "The material for Problem Set 2 is here: [ps2](https://github.com/nmduonggg/ML-CS229/blob/master/Problem%20Set%202/ps2.pdf)\n",
    "\n",
    "This notebook contains the solution for __Question 4: Constructing Kernel__"
   ]
  },
  {
   "cell_type": "markdown",
   "id": "521cfa02",
   "metadata": {},
   "source": [
    "$K_1, K_2$ are kernels over $R^n \\times R^n$, $K_3$ is kernel over $R^d \\times R^d$ then they satisty:\n",
    "\n",
    "$$b^T K_1 b \\geq 0 \\quad \\forall b \\in R^n$$\n",
    "\n",
    "$$ b^T K_2 b \\geq 0 \\quad \\forall b \\in R^n$$\n",
    "\n",
    "$$ b^T K_3 b \\geq 0 \\quad \\forall b \\in R^d$$"
   ]
  },
  {
   "cell_type": "markdown",
   "id": "45c2bd64",
   "metadata": {},
   "source": [
    "### Question 4.a)\n",
    "\n",
    "Consider:\n",
    "\n",
    "$$\n",
    "\\begin{align*}\n",
    "    &b^T K_1 b + b^T K_2 b \\geq 0 \\\\\n",
    "    \\implies \\quad &b^T \\big(K_1 + K_2\\big) b \\geq 0\n",
    "\\end{align*}\n",
    "$$\n",
    "\n",
    "Let $K$ = $K_1 + K_2$ where $k_{ij} = K(x^i, z^j) = K1(x^i, z^j) + K2(x^i, z^j)$\n",
    "\n",
    "Then $K$ is kernel"
   ]
  },
  {
   "cell_type": "markdown",
   "id": "7fa599b6",
   "metadata": {},
   "source": [
    "### Question 4.b)\n",
    "\n",
    "Choose $K_1 (x, z) = (x^Tz)^3, K_2 (x, z) = (x^Tz)$ be 2 kernels. With input set $\\{(1, 0); (-2, 1)\\}$, the corresponding kernel matrices are:\n",
    "\n",
    "\n",
    "$$\n",
    "K_1 = \n",
    "\\begin{bmatrix}\n",
    "    1 & -8 \\\\\n",
    "    -8 & 64 \\\\\n",
    "\\end{bmatrix} \n",
    "$$\n",
    "\n",
    "$$\n",
    "K_2 = \n",
    "\\begin{bmatrix}\n",
    "    1 & -2 \\\\\n",
    "    -2 & 4 \\\\\n",
    "\\end{bmatrix}\n",
    "$$\n",
    "\n",
    "$$\n",
    "\\implies \\quad \n",
    "K = \n",
    "\\begin{bmatrix}\n",
    "    0 & -6 \\\\\n",
    "    -6 & 60 \\\\\n",
    "\\end{bmatrix}\n",
    "$$"
   ]
  },
  {
   "cell_type": "markdown",
   "id": "f8f3d784",
   "metadata": {},
   "source": [
    "choose $ b = (6, 1)$ then $b^T K b = -12 < 0$ which leads to the fact that $K$ is not a valid kernel"
   ]
  },
  {
   "cell_type": "markdown",
   "id": "58a7b45e",
   "metadata": {},
   "source": [
    "### Question 4.c)"
   ]
  },
  {
   "cell_type": "markdown",
   "id": "1897797e",
   "metadata": {},
   "source": [
    "Start with $b^T K_1 b =  C \\geq 0$ in which $C$ is a scalar, then with $a$ being positive:\n",
    "\n",
    "$$b^T \\big(aK1\\big) b = a \\big(b^T K_1 b\\big) =  aC \\geq 0$$\n",
    "\n",
    "For this reason, $K$ is a valid kernel"
   ]
  },
  {
   "cell_type": "markdown",
   "id": "71b5b6a5",
   "metadata": {},
   "source": [
    "### Question 4.d)\n",
    "\n",
    "Start with $b^T K_1 b =  C \\geq 0$ in which $C$ is a scalar, then with $a$ being positive:\n",
    "\n",
    "$$b^T \\big(-aK1\\big) b = -a \\big(b^T K_1 b\\big) =  -aC \\leq 0$$\n",
    "\n",
    "For this reason, $K$ is not a valid kernel"
   ]
  },
  {
   "cell_type": "markdown",
   "id": "543cf297",
   "metadata": {},
   "source": [
    "### Question 4.e)\n",
    "\n",
    "Consider the following statement:\n",
    "\n",
    "$$\n",
    "\\begin{align*}\n",
    "    z^TKz &= \\sum_{i}\\sum_{j} z_iK_{ij}z_j \\\\\n",
    "        &= \\sum_{i} \\sum_{j} z_i K(x^i, x^i) z_j \\\\\n",
    "        &= \\sum_{i} \\sum_{j} z_i K_1(x^i, x^j) K_2(x^i, x^j) z_j \\\\\n",
    "        &= \\sum_{i} \\sum_{j} z_i z_j \\big[\\phi_1(x^i)^T \\phi_1(x^j) \\big]\\big[ \\phi_2(x^i)^T \\phi_2(x^j) \\big] \\\\\n",
    "        &= \\sum_{i} \\sum_{j} z_i z_j \\sum_{a} \\phi_{1a} (x^i) \\phi_{1a} (x^j) \\sum_{b} \\phi_{2b} (x^i) \\phi_{2b} (x^j) \\\\\n",
    "        &= \\sum_{i} \\sum_{j} \\sum_a \\sum_b z_i z_j \\phi_{1a} (x^i) \\phi_{1a} (x^j) \\phi_{2b} (x^i) \\phi_{2b} (x^j) \\\\\n",
    "        &= \\sum_a \\sum_b \\bigg(\\sum_i z_i \\phi_{1a}(x^i) \\phi_{2b} (x^i)\\bigg)^2 \\quad \\geq 0 \\ \\forall z_i \\in R\n",
    "\\end{align*}\n",
    "$$\n",
    "\n",
    "Thus, $K$ is a valid kernel function."
   ]
  },
  {
   "cell_type": "markdown",
   "id": "8534d0bd",
   "metadata": {},
   "source": [
    "### Question 4.f)\n",
    "\n",
    "Consider $ b = (b_1, b_2,..., b_n)$ and the matrix constructed from $k(x, z) = f(x)f(z)$. Then we have:\n",
    "\n",
    "$$\n",
    "\\begin{align*}\n",
    "    b^T K b &= \\sum_{i=1} \\sum_{j=1} b_i k_{ij} b_j \\\\\n",
    "        &= \\sum_{i=1} \\sum_{j=1} b_i f(x_i)f(x_j) b_j \\\\\n",
    "        &= \\bigg(\\sum_{i=1} b_i f(x_i)\\bigg)^2 \\quad \\geq 0 \\quad \\forall b \\in R^n\n",
    "\\end{align*}\n",
    "$$\n",
    "\n",
    "Thus, $K$ is a valid kernel"
   ]
  },
  {
   "cell_type": "markdown",
   "id": "81d250e4",
   "metadata": {},
   "source": [
    "### Question 4.g)\n",
    "\n",
    "Assume:\n",
    "- $\\phi(x) = z \\implies \\phi(x)_i = z_i$\n",
    "- $\\gamma : R^d \\to R^p$ s.t $K_3(\\phi(x), \\phi(x)) = \\gamma(\\phi(x))^T \\gamma(\\phi(x))$\n",
    "- $b \\in R^p$ \n",
    "\n",
    "Then:\n",
    "\n",
    "$$\n",
    "\\begin{align*}\n",
    "    b^TKb &= \\sum_i \\sum_j b_i K_{ij} b_j \\\\\n",
    "        &= \\sum_i \\sum_j b_i K(x^i, x^j) b_j \\\\\n",
    "        &= \\sum_i \\sum_j b_i K_3 (z^i, z^j) b_j \\\\\n",
    "        &= \\sum_i \\sum_j b_i \\gamma(z^i)^T \\gamma(z^j) b_j \\\\\n",
    "        &= \\sum_i \\sum_j \\sum_k b_i b_j \\gamma_k(z^i) \\gamma_k(z^j) \\\\\n",
    "        &= \\sum_k \\bigg(\\sum_i b_i \\gamma_k(z^i)\\bigg) ^2 \\quad \\geq 0 \\ \\forall z_i \\in R^p\n",
    "\\end{align*}\n",
    "$$\n",
    "\n",
    "Thus K is a valid kernel function"
   ]
  },
  {
   "cell_type": "code",
   "execution_count": null,
   "id": "fcd279e7",
   "metadata": {},
   "outputs": [],
   "source": []
  }
 ],
 "metadata": {
  "kernelspec": {
   "display_name": "Python 3 (ipykernel)",
   "language": "python",
   "name": "python3"
  },
  "language_info": {
   "codemirror_mode": {
    "name": "ipython",
    "version": 3
   },
   "file_extension": ".py",
   "mimetype": "text/x-python",
   "name": "python",
   "nbconvert_exporter": "python",
   "pygments_lexer": "ipython3",
   "version": "3.11.2"
  }
 },
 "nbformat": 4,
 "nbformat_minor": 5
}
